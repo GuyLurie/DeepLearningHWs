{
 "cells": [
  {
   "cell_type": "markdown",
   "metadata": {},
   "source": [
    "### Download Data"
   ]
  },
  {
   "cell_type": "code",
   "execution_count": 1,
   "metadata": {},
   "outputs": [
    {
     "name": "stdout",
     "output_type": "stream",
     "text": [
      "Downloading train-images-idx3-ubyte.gz...\n"
     ]
    },
    {
     "name": "stderr",
     "output_type": "stream",
     "text": [
      "3226it [00:00, 5641.70it/s]\n"
     ]
    },
    {
     "name": "stdout",
     "output_type": "stream",
     "text": [
      "Saved to data/train-images-idx3-ubyte.gz\n",
      "Downloading train-labels-idx1-ubyte.gz...\n"
     ]
    },
    {
     "name": "stderr",
     "output_type": "stream",
     "text": [
      "4it [00:00, 186.34it/s]\n"
     ]
    },
    {
     "name": "stdout",
     "output_type": "stream",
     "text": [
      "Saved to data/train-labels-idx1-ubyte.gz\n",
      "Downloading t10k-images-idx3-ubyte.gz...\n"
     ]
    },
    {
     "name": "stderr",
     "output_type": "stream",
     "text": [
      "540it [00:00, 776.22it/s]\n"
     ]
    },
    {
     "name": "stdout",
     "output_type": "stream",
     "text": [
      "Saved to data/t10k-images-idx3-ubyte.gz\n",
      "Downloading t10k-labels-idx1-ubyte.gz...\n"
     ]
    },
    {
     "name": "stderr",
     "output_type": "stream",
     "text": [
      "1it [00:00, 581.09it/s]"
     ]
    },
    {
     "name": "stdout",
     "output_type": "stream",
     "text": [
      "Saved to data/t10k-labels-idx1-ubyte.gz\n"
     ]
    },
    {
     "name": "stderr",
     "output_type": "stream",
     "text": [
      "\n"
     ]
    }
   ],
   "source": [
    "import os\n",
    "import requests\n",
    "from tqdm import tqdm\n",
    "\n",
    "# Define the base URL and file names\n",
    "base_url = \"https://github.com/zalandoresearch/fashion-mnist/raw/master/data/fashion/\"\n",
    "files = [\n",
    "    \"train-images-idx3-ubyte.gz\",\n",
    "    \"train-labels-idx1-ubyte.gz\",\n",
    "    \"t10k-images-idx3-ubyte.gz\",\n",
    "    \"t10k-labels-idx1-ubyte.gz\",\n",
    "]\n",
    "\n",
    "# Ensure the /data/ directory exists\n",
    "data_dir = \"data\"\n",
    "os.makedirs(data_dir, exist_ok=True)\n",
    "\n",
    "# Download each file\n",
    "for file_name in files:\n",
    "    url = base_url + file_name\n",
    "    file_path = os.path.join(data_dir, file_name)\n",
    "\n",
    "    if not os.path.exists(file_path):\n",
    "        print(f\"Downloading {file_name}...\")\n",
    "        with requests.get(url, stream=True) as response:\n",
    "            response.raise_for_status()\n",
    "            with open(file_path, \"wb\") as f:\n",
    "                for chunk in tqdm(response.iter_content(chunk_size=8192)):\n",
    "                    f.write(chunk)\n",
    "        print(f\"Saved to {file_path}\")\n",
    "    else:\n",
    "        print(f\"{file_name} already exists. Skipping download.\")\n"
   ]
  },
  {
   "cell_type": "markdown",
   "metadata": {},
   "source": [
    "### PyTorch Implementation"
   ]
  },
  {
   "cell_type": "code",
   "execution_count": 10,
   "metadata": {},
   "outputs": [
    {
     "ename": "ModuleNotFoundError",
     "evalue": "No module named 'tensorboard'",
     "output_type": "error",
     "traceback": [
      "\u001b[0;31m---------------------------------------------------------------------------\u001b[0m",
      "\u001b[0;31mModuleNotFoundError\u001b[0m                       Traceback (most recent call last)",
      "Cell \u001b[0;32mIn[10], line 10\u001b[0m\n\u001b[1;32m      8\u001b[0m \u001b[38;5;28;01mimport\u001b[39;00m \u001b[38;5;21;01mtorch\u001b[39;00m\u001b[38;5;21;01m.\u001b[39;00m\u001b[38;5;21;01mnn\u001b[39;00m\u001b[38;5;21;01m.\u001b[39;00m\u001b[38;5;21;01mfunctional\u001b[39;00m \u001b[38;5;28;01mas\u001b[39;00m \u001b[38;5;21;01mF\u001b[39;00m\n\u001b[1;32m      9\u001b[0m \u001b[38;5;28;01mfrom\u001b[39;00m \u001b[38;5;21;01mtorchvision\u001b[39;00m \u001b[38;5;28;01mimport\u001b[39;00m datasets, transforms\n\u001b[0;32m---> 10\u001b[0m \u001b[38;5;28;01mfrom\u001b[39;00m \u001b[38;5;21;01mtorch\u001b[39;00m\u001b[38;5;21;01m.\u001b[39;00m\u001b[38;5;21;01mutils\u001b[39;00m\u001b[38;5;21;01m.\u001b[39;00m\u001b[38;5;21;01mtensorboard\u001b[39;00m \u001b[38;5;28;01mimport\u001b[39;00m SummaryWriter\n\u001b[1;32m     12\u001b[0m \u001b[38;5;66;03m# Device configuration\u001b[39;00m\n\u001b[1;32m     13\u001b[0m device \u001b[38;5;241m=\u001b[39m torch\u001b[38;5;241m.\u001b[39mdevice(\u001b[38;5;124m'\u001b[39m\u001b[38;5;124mcuda\u001b[39m\u001b[38;5;124m'\u001b[39m \u001b[38;5;28;01mif\u001b[39;00m torch\u001b[38;5;241m.\u001b[39mcuda\u001b[38;5;241m.\u001b[39mis_available() \u001b[38;5;28;01melse\u001b[39;00m \u001b[38;5;124m'\u001b[39m\u001b[38;5;124mcpu\u001b[39m\u001b[38;5;124m'\u001b[39m)\n",
      "File \u001b[0;32m~/Library/Caches/pypoetry/virtualenvs/hw1-3GLTkZCM-py3.12/lib/python3.12/site-packages/torch/utils/tensorboard/__init__.py:1\u001b[0m\n\u001b[0;32m----> 1\u001b[0m \u001b[38;5;28;01mimport\u001b[39;00m \u001b[38;5;21;01mtensorboard\u001b[39;00m\n\u001b[1;32m      2\u001b[0m \u001b[38;5;28;01mfrom\u001b[39;00m \u001b[38;5;21;01mtorch\u001b[39;00m\u001b[38;5;21;01m.\u001b[39;00m\u001b[38;5;21;01m_vendor\u001b[39;00m\u001b[38;5;21;01m.\u001b[39;00m\u001b[38;5;21;01mpackaging\u001b[39;00m\u001b[38;5;21;01m.\u001b[39;00m\u001b[38;5;21;01mversion\u001b[39;00m \u001b[38;5;28;01mimport\u001b[39;00m Version\n\u001b[1;32m      4\u001b[0m \u001b[38;5;28;01mif\u001b[39;00m \u001b[38;5;129;01mnot\u001b[39;00m \u001b[38;5;28mhasattr\u001b[39m(tensorboard, \u001b[38;5;124m\"\u001b[39m\u001b[38;5;124m__version__\u001b[39m\u001b[38;5;124m\"\u001b[39m) \u001b[38;5;129;01mor\u001b[39;00m Version(\n\u001b[1;32m      5\u001b[0m     tensorboard\u001b[38;5;241m.\u001b[39m__version__\n\u001b[1;32m      6\u001b[0m ) \u001b[38;5;241m<\u001b[39m Version(\u001b[38;5;124m\"\u001b[39m\u001b[38;5;124m1.15\u001b[39m\u001b[38;5;124m\"\u001b[39m):\n",
      "\u001b[0;31mModuleNotFoundError\u001b[0m: No module named 'tensorboard'"
     ]
    }
   ],
   "source": [
    "import torch\n",
    "import torch.nn as nn\n",
    "import torch.optim as optim\n",
    "from torchvision import datasets, transforms\n",
    "import matplotlib.pyplot as plt\n",
    "from torch.utils.data import DataLoader, random_split\n",
    "from torch.optim.lr_scheduler import ReduceLROnPlateau\n",
    "import torch.nn.functional as F\n",
    "from torchvision import datasets, transforms\n",
    "from torch.utils.tensorboard import SummaryWriter\n",
    "\n",
    "# Device configuration\n",
    "device = torch.device('cuda' if torch.cuda.is_available() else 'cpu')\n",
    "\n",
    "# Hyperparameters\n",
    "batch_size = 64\n",
    "learning_rate = 0.001\n",
    "epochs = 20\n",
    "\n",
    "# Load and preprocess FashionMNIST dataset\n",
    "transform = transforms.Compose([\n",
    "    transforms.ToTensor(),\n",
    "    transforms.Normalize((0.5,), (0.5,))\n",
    "])\n",
    "\n",
    "train_dataset = datasets.FashionMNIST(root='./data', train=True, transform=transform, download=True)\n",
    "test_dataset = datasets.FashionMNIST(root='./data', train=False, transform=transform, download=True)\n",
    "\n",
    "train_loader = torch.utils.data.DataLoader(train_dataset, batch_size=batch_size, shuffle=True)\n",
    "test_loader = torch.utils.data.DataLoader(test_dataset, batch_size=batch_size, shuffle=False)\n",
    "\n",
    "# Define the base LeNet-5 architecture\n",
    "# class LeNet5(nn.Module):\n",
    "#     def __init__(self, dropout_rate=0, l2_reg=0, batch_norm=False):\n",
    "#         super(LeNet5, self).__init__()\n",
    "#         self.conv1 = nn.Conv2d(1, 6, kernel_size=5)\n",
    "#         self.conv2 = nn.Conv2d(6, 16, kernel_size=5)\n",
    "#         self.batch_norm1 = nn.BatchNorm2d(6) if batch_norm else nn.Identity()\n",
    "#         self.batch_norm2 = nn.BatchNorm2d(16) if batch_norm else nn.Identity()\n",
    "#         self.fc1 = nn.Linear(16 * 4 * 4, 120)\n",
    "#         self.dropout = nn.Dropout(dropout_rate)\n",
    "#         self.fc2 = nn.Linear(120, 84)\n",
    "#         self.fc3 = nn.Linear(84, 10)\n",
    "\n",
    "#     def forward(self, x):\n",
    "#         x = torch.relu(self.conv1(x))\n",
    "#         x = self.batch_norm1(x)\n",
    "#         x = torch.avg_pool2d(x, 2)\n",
    "#         x = torch.relu(self.conv2(x))\n",
    "#         x = self.batch_norm2(x)\n",
    "#         x = torch.avg_pool2d(x, 2)\n",
    "#         x = x.view(-1, 16 * 4 * 4)\n",
    "#         x = torch.relu(self.fc1(x))\n",
    "#         x = self.dropout(x)\n",
    "#         x = torch.relu(self.fc2(x))\n",
    "#         x = self.fc3(x)\n",
    "#         return x\n",
    "\n",
    "class LeNet5(nn.Module):\n",
    "    def __init__(self, use_batch_norm=False, use_dropout=False, dropout_prob=0.5):\n",
    "        super(LeNet5, self).__init__()\n",
    "        self.conv1 = nn.Conv2d(1, 6, kernel_size=[5, 5])\n",
    "        self.avg_pool1 = nn.AvgPool2d(kernel_size=[2, 2], stride=2)\n",
    "        self.conv2 = nn.Conv2d(6, 16, kernel_size=[5, 5])\n",
    "        self.avg_pool2 = nn.AvgPool2d(kernel_size=[2, 2], stride=2)\n",
    "        self.conv3 = nn.Conv2d(16, 120, kernel_size=[5, 5])\n",
    "        self.fc1 = nn.Linear(120, 84)\n",
    "        self.fc2 = nn.Linear(84, 10)\n",
    "        self.use_batch_norm = use_batch_norm\n",
    "        self.use_dropout = use_dropout\n",
    "        if use_batch_norm:\n",
    "            self.batch_norm1 = nn.BatchNorm2d(6)\n",
    "            self.batch_norm2 = nn.BatchNorm2d(16)\n",
    "            self.batch_norm3 = nn.BatchNorm2d(120)\n",
    "        if use_dropout:\n",
    "            self.dropout = nn.Dropout(dropout_prob)\n",
    "\n",
    "    def forward(self, x):\n",
    "        x = self.conv1(x)\n",
    "        if self.use_batch_norm:\n",
    "            x = self.batch_norm1(x)\n",
    "        x = F.relu(x)\n",
    "        x = self.avg_pool1(x)\n",
    "\n",
    "        x = self.conv2(x)\n",
    "        if self.use_batch_norm:\n",
    "            x = self.batch_norm2(x)\n",
    "        x = F.relu(x)\n",
    "        x = self.avg_pool2(x)\n",
    "\n",
    "        x = self.conv3(x)\n",
    "        if self.use_batch_norm:\n",
    "            x = self.batch_norm3(x)\n",
    "        x = F.relu(x)\n",
    "\n",
    "        x = torch.flatten(x, 1)\n",
    "        if self.use_dropout:\n",
    "            x = self.dropout(x)\n",
    "        x = F.relu(self.fc1(x))\n",
    "\n",
    "        x = F.softmax(self.fc2(x), dim=1)\n",
    "        return x\n",
    "\n",
    "# Train and evaluate the model\n",
    "def train_and_evaluate(model, optimizer, criterion, train_loader, test_loader):\n",
    "    train_accs, test_accs = [], []\n",
    "\n",
    "    for epoch in range(epochs):\n",
    "        model.train()\n",
    "        correct, total = 0, 0\n",
    "        for images, labels in train_loader:\n",
    "            images, labels = images.to(device), labels.to(device)\n",
    "            outputs = model(images)\n",
    "            loss = criterion(outputs, labels)\n",
    "\n",
    "            optimizer.zero_grad()\n",
    "            loss.backward()\n",
    "            optimizer.step()\n",
    "\n",
    "            _, predicted = torch.max(outputs, 1)\n",
    "            total += labels.size(0)\n",
    "            correct += (predicted == labels).sum().item()\n",
    "\n",
    "        train_accs.append(correct / total)\n",
    "\n",
    "        # Evaluate on test data\n",
    "        model.eval()\n",
    "        correct, total = 0, 0\n",
    "        with torch.no_grad():\n",
    "            for images, labels in test_loader:\n",
    "                images, labels = images.to(device), labels.to(device)\n",
    "                outputs = model(images)\n",
    "                _, predicted = torch.max(outputs, 1)\n",
    "                total += labels.size(0)\n",
    "                correct += (predicted == labels).sum().item()\n",
    "\n",
    "        test_accs.append(correct / total)\n",
    "\n",
    "    return train_accs, test_accs\n",
    "\n",
    "# Plot convergence graphs\n",
    "def plot_convergence(train_acc, test_acc, title):\n",
    "    plt.plot(train_acc, label=\"Train Accuracy\")\n",
    "    plt.plot(test_acc, label=\"Test Accuracy\")\n",
    "    plt.title(title)\n",
    "    plt.xlabel(\"Epochs\")\n",
    "    plt.ylabel(\"Accuracy\")\n",
    "    plt.legend()\n",
    "    plt.grid()\n",
    "    plt.show()\n",
    "\n",
    "def plot_convergence(train_acc, test_acc, title):\n",
    "    # Plot train and test accuracies\n",
    "    plt.plot(train_acc, label=\"Train Accuracy\")\n",
    "    plt.plot(test_acc, label=\"Test Accuracy\")\n",
    "    \n",
    "    # Find the epoch where the highest test accuracy occurred\n",
    "    best_epoch = test_acc.index(max(test_acc))\n",
    "    \n",
    "    # Add a vertical line at the highest accuracy point\n",
    "    plt.axvline(x=best_epoch, color='r', linestyle='--', label=f'Best Accuracy at Epoch {best_epoch+1}')\n",
    "    \n",
    "    # Add title, labels, and legend\n",
    "    plt.title(title)\n",
    "    plt.xlabel(\"Epochs\")\n",
    "    plt.ylabel(\"Accuracy\")\n",
    "    plt.legend()\n",
    "    \n",
    "    # Add a grid for better readability\n",
    "    plt.grid()\n",
    "\n",
    "    # Display the plot\n",
    "    plt.show()\n",
    "\n",
    "# Main experiment\n",
    "criterion = nn.CrossEntropyLoss()\n",
    "\n",
    "# Without Regularization\n",
    "model = LeNet5().to(device)\n",
    "optimizer = optim.Adam(model.parameters(), lr=learning_rate)\n",
    "train_acc, test_acc = train_and_evaluate(model, optimizer, criterion, train_loader, test_loader)\n",
    "plot_convergence(train_acc, test_acc, \"No Regularization\")\n",
    "\n",
    "# With Dropout\n",
    "model_dropout = LeNet5(dropout_rate=0.5).to(device)\n",
    "optimizer_dropout = optim.Adam(model_dropout.parameters(), lr=learning_rate)\n",
    "train_acc_dropout, test_acc_dropout = train_and_evaluate(model_dropout, optimizer_dropout, criterion, train_loader, test_loader)\n",
    "plot_convergence(train_acc_dropout, test_acc_dropout, \"Dropout Regularization\")\n",
    "\n",
    "# With Weight Decay (L2 Regularization)\n",
    "model_l2 = LeNet5().to(device)\n",
    "optimizer_l2 = optim.Adam(model_l2.parameters(), lr=learning_rate, weight_decay=0.001)\n",
    "train_acc_l2, test_acc_l2 = train_and_evaluate(model_l2, optimizer_l2, criterion, train_loader, test_loader)\n",
    "plot_convergence(train_acc_l2, test_acc_l2, \"Weight Decay Regularization\")\n",
    "\n",
    "# With Batch Normalization\n",
    "model_bn = LeNet5(batch_norm=True).to(device)\n",
    "optimizer_bn = optim.Adam(model_bn.parameters(), lr=learning_rate)\n",
    "train_acc_bn, test_acc_bn = train_and_evaluate(model_bn, optimizer_bn, criterion, train_loader, test_loader)\n",
    "plot_convergence(train_acc_bn, test_acc_bn, \"Batch Normalization Regularization\")"
   ]
  },
  {
   "cell_type": "code",
   "execution_count": 7,
   "metadata": {},
   "outputs": [
    {
     "data": {
      "image/png": "[encoded data removed]",
      "text/plain": [
       "<Figure size 640x480 with 1 Axes>"
      ]
     },
     "metadata": {},
     "output_type": "display_data"
    }
   ],
   "source": [
    "# With Weight Decay (L2 Regularization)\n",
    "model_l2 = LeNet5().to(device)\n",
    "optimizer_l2 = optim.Adam(model_l2.parameters(), lr=learning_rate, weight_decay=0.001)\n",
    "train_acc_l2, test_acc_l2 = train_and_evaluate(model_l2, optimizer_l2, criterion, train_loader, test_loader)\n",
    "plot_convergence(train_acc_l2, test_acc_l2, \"Weight Decay Regularization\")"
   ]
  },
  {
   "cell_type": "code",
   "execution_count": 8,
   "metadata": {},
   "outputs": [
    {
     "data": {
      "text/html": [
       "<div>\n",
       "<style scoped>\n",
       "    .dataframe tbody tr th:only-of-type {\n",
       "        vertical-align: middle;\n",
       "    }\n",
       "\n",
       "    .dataframe tbody tr th {\n",
       "        vertical-align: top;\n",
       "    }\n",
       "\n",
       "    .dataframe thead th {\n",
       "        text-align: right;\n",
       "    }\n",
       "</style>\n",
       "<table border=\"1\" class=\"dataframe\">\n",
       "  <thead>\n",
       "    <tr style=\"text-align: right;\">\n",
       "      <th></th>\n",
       "      <th>Technique</th>\n",
       "      <th>Train Accuracy (%)</th>\n",
       "      <th>Test Accuracy (%)</th>\n",
       "    </tr>\n",
       "  </thead>\n",
       "  <tbody>\n",
       "    <tr>\n",
       "      <th>0</th>\n",
       "      <td>No Regularization</td>\n",
       "      <td>94.233333</td>\n",
       "      <td>89.96</td>\n",
       "    </tr>\n",
       "    <tr>\n",
       "      <th>1</th>\n",
       "      <td>Dropout</td>\n",
       "      <td>90.231667</td>\n",
       "      <td>88.64</td>\n",
       "    </tr>\n",
       "    <tr>\n",
       "      <th>2</th>\n",
       "      <td>Weight Decay (L2)</td>\n",
       "      <td>92.110000</td>\n",
       "      <td>89.81</td>\n",
       "    </tr>\n",
       "    <tr>\n",
       "      <th>3</th>\n",
       "      <td>Batch Normalization</td>\n",
       "      <td>96.645000</td>\n",
       "      <td>88.57</td>\n",
       "    </tr>\n",
       "  </tbody>\n",
       "</table>\n",
       "</div>"
      ],
      "text/plain": [
       "             Technique  Train Accuracy (%)  Test Accuracy (%)\n",
       "0    No Regularization           94.233333              89.96\n",
       "1              Dropout           90.231667              88.64\n",
       "2    Weight Decay (L2)           92.110000              89.81\n",
       "3  Batch Normalization           96.645000              88.57"
      ]
     },
     "metadata": {},
     "output_type": "display_data"
    }
   ],
   "source": [
    "import pandas as pd\n",
    "\n",
    "# Example final accuracies (replace with your actual results)\n",
    "results = {\n",
    "    \"Technique\": [\n",
    "        \"No Regularization\",\n",
    "        \"Dropout\",\n",
    "        \"Weight Decay (L2)\",\n",
    "        \"Batch Normalization\"\n",
    "    ],\n",
    "    \"Train Accuracy (%)\": [\n",
    "        train_acc[-1] * 100,\n",
    "        train_acc_dropout[-1] * 100,\n",
    "        train_acc_l2[-1] * 100,\n",
    "        train_acc_bn[-1] * 100\n",
    "    ],\n",
    "    \"Test Accuracy (%)\": [\n",
    "        test_acc[-1] * 100,\n",
    "        test_acc_dropout[-1] * 100,\n",
    "        test_acc_l2[-1] * 100,\n",
    "        test_acc_bn[-1] * 100\n",
    "    ],\n",
    "}\n",
    "\n",
    "# Create DataFrame\n",
    "df_results = pd.DataFrame(results)\n",
    "\n",
    "# Display DataFrame\n",
    "display(df_results)\n",
    "\n",
    "# Optionally save to a CSV file\n",
    "df_results.to_csv(\"lenet5_results.csv\", index=False)"
   ]
  }
 ],
 "metadata": {
  "kernelspec": {
   "display_name": "hw1-3GLTkZCM-py3.12",
   "language": "python",
   "name": "python3"
  },
  "language_info": {
   "codemirror_mode": {
    "name": "ipython",
    "version": 3
   },
   "file_extension": ".py",
   "mimetype": "text/x-python",
   "name": "python",
   "nbconvert_exporter": "python",
   "pygments_lexer": "ipython3",
   "version": "3.12.6"
  }
 },
 "nbformat": 4,
 "nbformat_minor": 2
}
